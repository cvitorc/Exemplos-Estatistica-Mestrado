{
  "nbformat": 4,
  "nbformat_minor": 0,
  "metadata": {
    "colab": {
      "provenance": [],
      "authorship_tag": "ABX9TyOYTCZ2wK7pmlTBZyhnwd44",
      "include_colab_link": true
    },
    "kernelspec": {
      "name": "python3",
      "display_name": "Python 3"
    },
    "language_info": {
      "name": "python"
    }
  },
  "cells": [
    {
      "cell_type": "markdown",
      "metadata": {
        "id": "view-in-github",
        "colab_type": "text"
      },
      "source": [
        "<a href=\"https://colab.research.google.com/github/cvitorc/Exemplos-Estatistica-Mestrado/blob/main/TesteT_pareado_varianciasdiferentes.ipynb\" target=\"_parent\"><img src=\"https://colab.research.google.com/assets/colab-badge.svg\" alt=\"Open In Colab\"/></a>"
      ]
    },
    {
      "cell_type": "code",
      "execution_count": null,
      "metadata": {
        "id": "lRbQwTZJOOJH",
        "colab": {
          "base_uri": "https://localhost:8080/"
        },
        "outputId": "d9a32b9b-5e7b-4644-b114-88f3b443ec72"
      },
      "outputs": [
        {
          "output_type": "stream",
          "name": "stdout",
          "text": [
            "Grupo 1: Os dados não seguem uma distribuição normal.\n",
            "Grupo 2: Os dados não seguem uma distribuição normal.\n",
            "Há evidências para sugerir que as variâncias dos grupos são diferentes. \n",
            "Valor p: 0.6424339114635353\n",
            "Não há evidências para concluir que há uma diferença estatisticamente significativa nas médias.\n"
          ]
        }
      ],
      "source": [
        "import numpy as np\n",
        "from scipy import stats\n",
        "\n",
        "# Defina os pares de observações\n",
        "antes_tratamento = [68, 72, 74, 70, 43]\n",
        "depois_tratamento = [70, 75, 78, 76, 9]\n",
        "\n",
        "# Defina um nível de significância (geralmente 0,05) para avaliar o p-valor\n",
        "nivel_significancia = 0.05\n",
        "\n",
        "# Realize o teste de normalidade de Shapiro-Wilk\n",
        "stat1, p_valor1 = stats.shapiro(antes_tratamento)\n",
        "stat2, p_valor2 = stats.shapiro(depois_tratamento)\n",
        "\n",
        "# Verifique se os dados seguem uma distribuição normal\n",
        "if p_valor1 > nivel_significancia:\n",
        "    print(\"Grupo 1: Os dados seguem uma distribuição normal.\")\n",
        "else:\n",
        "    print(\"Grupo 1: Os dados não seguem uma distribuição normal.\")\n",
        "\n",
        "# Verifique se os dados seguem uma distribuição normal\n",
        "if p_valor2 > nivel_significancia:\n",
        "    print(\"Grupo 2: Os dados seguem uma distribuição normal.\")\n",
        "else:\n",
        "    print(\"Grupo 2: Os dados não seguem uma distribuição normal.\")\n",
        "\n",
        "\n",
        "\n",
        "# calculo das variâncias\n",
        "variancia1 = np.var(antes_tratamento)\n",
        "variancia2 = np.var(depois_tratamento)\n",
        "\n",
        "# Calculo valor de F\n",
        "\n",
        "if variancia1 >= variancia2:\n",
        "    f_variancia = variancia1 / variancia2\n",
        "else:\n",
        "    f_variancia = variancia2 / variancia1\n",
        "\n",
        "\n",
        "# Verifique se as variâncias são iguais\n",
        "if f_variancia < 4:\n",
        "    print(\"As variâncias dos grupos são estatisticamente iguais\")\n",
        "else:\n",
        "    print(\"Há evidências para sugerir que as variâncias dos grupos são diferentes. \")\n",
        "\n",
        "# Realize o teste t pareado com variâncias heterogêneas\n",
        "t_stat, p_valor = stats.ttest_rel(antes_tratamento, depois_tratamento)\n",
        "\n",
        "# Exiba o resultado do teste\n",
        "print(f\"Valor p: {p_valor}\")\n",
        "\n",
        "# Verifique se há diferença estatisticamente significativa nas médias\n",
        "if p_valor < nivel_significancia:\n",
        "    print(\"Há uma diferença estatisticamente significativa nas médias antes e depois do tratamento.\")\n",
        "else:\n",
        "    print(\"Não há evidências para concluir que há uma diferença estatisticamente significativa nas médias.\")\n"
      ]
    },
    {
      "cell_type": "markdown",
      "source": [
        "No contexto do teste t pareado, a suposição tradicional é que as diferenças entre os pares de observações seguem uma distribuição normal e que as variâncias das diferenças são iguais. No entanto, em algumas situações, você pode se deparar com grupos pareados em que as variações das diferenças são claramente diferentes. Nesse caso, você pode usar uma versão modificada do teste t pareado, conhecida como \"teste t pareado com variâncias heterogêneas\" ou \"teste t pareado com diferenças de variância\".\n",
        "\n",
        "Neste exemplo, usamos stats.ttest_rel(antes_tratamento, depois_tratamento) para realizar o teste t pareado com varianças heterogêneas, que não assume que as variâncias são iguais.\n",
        "\n",
        "No entanto, é importante observar que o teste t pareado com varianças heterogêneas é menos robusto do que o teste t pareado tradicional e pode produzir resultados menos precisos em algumas situações. Portanto, é aconselhável considerar a natureza dos seus dados."
      ],
      "metadata": {
        "id": "g6OUt98bOP7W"
      }
    }
  ]
}