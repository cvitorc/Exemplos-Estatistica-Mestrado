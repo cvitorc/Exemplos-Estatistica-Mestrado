{
  "nbformat": 4,
  "nbformat_minor": 0,
  "metadata": {
    "colab": {
      "provenance": [],
      "authorship_tag": "ABX9TyNKAKyxLUpfUXnP3vAEPrmm",
      "include_colab_link": true
    },
    "kernelspec": {
      "name": "python3",
      "display_name": "Python 3"
    },
    "language_info": {
      "name": "python"
    }
  },
  "cells": [
    {
      "cell_type": "markdown",
      "metadata": {
        "id": "view-in-github",
        "colab_type": "text"
      },
      "source": [
        "<a href=\"https://colab.research.google.com/github/cvitorc/Exemplos-Estatistica-Mestrado/blob/main/TesteMann_Whitney_Dados_nao_seguem_distribuicaonormal_Exemplo06_aula2.ipynb\" target=\"_parent\"><img src=\"https://colab.research.google.com/assets/colab-badge.svg\" alt=\"Open In Colab\"/></a>"
      ]
    },
    {
      "cell_type": "code",
      "source": [
        "import numpy as np\n",
        "import pandas as pd\n",
        "from scipy import stats\n",
        "\n",
        "#Verificação da normalidade\n",
        "\n",
        "# Carregue os dados do arquivo Excel com duas colunas\n",
        "dados_excel = pd.read_excel('dieta-nao-normal.xlsx')\n",
        "\n",
        "# Selecione as duas colunas de dados que você deseja analisar\n",
        "coluna1 = dados_excel['Tratado']\n",
        "coluna2 = dados_excel['Controle']\n",
        "\n",
        "# Realize o teste de normalidade de Shapiro-Wilk\n",
        "stat1, p_valor1 = stats.shapiro(coluna1)\n",
        "stat2, p_valor2 = stats.shapiro(coluna2)\n",
        "\n",
        "# Defina um nível de significância (geralmente 0,05) para avaliar o p-valor\n",
        "nivel_significancia = 0.05\n",
        "\n",
        "# Exibe o resultado do teste\n",
        "print(f\"Valor de estatística grupo_sem_app: {stat1}\")\n",
        "print(f\"Valor p grupo_sem_app: {p_valor1}\")\n",
        "print(f\"Valor de estatística grupo_com_app: {stat2}\")\n",
        "print(f\"Valor p grupo_com_app: {p_valor2}\")\n",
        "\n",
        "\n",
        "# Verifique se os dados seguem uma distribuição normal\n",
        "if p_valor1 > nivel_significancia:\n",
        "    print(\"Os dados seguem uma distribuição normal.\")\n",
        "else:\n",
        "    print(\"Os dados não seguem uma distribuição normal.\")\n",
        "\n",
        "# Verifique se os dados seguem uma distribuição normal\n",
        "if p_valor2 > nivel_significancia:\n",
        "    print(\"Os dados seguem uma distribuição normal.\")\n",
        "else:\n",
        "    print(\"Os dados não seguem uma distribuição normal.\")"
      ],
      "metadata": {
        "colab": {
          "base_uri": "https://localhost:8080/"
        },
        "id": "34-uJEupbi_6",
        "outputId": "5f212cb6-154a-4077-c685-22e2a83d2efa"
      },
      "execution_count": null,
      "outputs": [
        {
          "output_type": "stream",
          "name": "stdout",
          "text": [
            "Valor de estatística grupo_sem_app: 0.8045505881309509\n",
            "Valor p grupo_sem_app: 0.04542457312345505\n",
            "Valor de estatística grupo_com_app: 0.7593550682067871\n",
            "Valor p grupo_com_app: 0.015873761847615242\n",
            "Os dados não seguem uma distribuição normal.\n",
            "Os dados não seguem uma distribuição normal.\n"
          ]
        }
      ]
    },
    {
      "cell_type": "markdown",
      "source": [
        "Se os seus dados não seguem uma distribuição normal e você deseja realizar um teste de hipóteses, você pode recorrer a testes estatísticos não paramétricos, que não fazem suposições sobre a distribuição subjacente dos dados. Um teste não paramétrico comum é o teste de Mann-Whitney U para comparação de duas amostras independentes. Aqui está um exemplo de como realizar o teste de Mann-Whitney U em Python:"
      ],
      "metadata": {
        "id": "isUZlnySOhCv"
      }
    },
    {
      "cell_type": "code",
      "execution_count": null,
      "metadata": {
        "colab": {
          "base_uri": "https://localhost:8080/"
        },
        "id": "wUxJhdXkOgkn",
        "outputId": "80d35e5b-4fb8-489e-d714-2976713d78ef"
      },
      "outputs": [
        {
          "output_type": "stream",
          "name": "stdout",
          "text": [
            "Estatística U de Mann-Whitney: 49.0\n",
            "Valor p: 0.001840050878114624\n",
            "Há uma diferença estatisticamente significativa entre os grupos.\n"
          ]
        }
      ],
      "source": [
        "import numpy as np\n",
        "from scipy import stats\n",
        "\n",
        "# Realize o teste de Mann-Whitney U\n",
        "stat, p_valor = stats.mannwhitneyu(coluna1, coluna2, alternative='two-sided')\n",
        "\n",
        "# Defina um nível de significância (geralmente 0,05) para avaliar o p-valor\n",
        "nivel_significancia = 0.05\n",
        "\n",
        "# Exiba o resultado do teste\n",
        "print(f\"Estatística U de Mann-Whitney: {stat}\")\n",
        "print(f\"Valor p: {p_valor}\")\n",
        "\n",
        "# Verifique se há uma diferença estatisticamente significativa entre os grupos\n",
        "if p_valor < nivel_significancia:\n",
        "    print(\"Há uma diferença estatisticamente significativa entre os grupos.\")\n",
        "else:\n",
        "    print(\"Não há evidências para concluir que há uma diferença estatisticamente significativa entre os grupos.\")\n"
      ]
    }
  ]
}