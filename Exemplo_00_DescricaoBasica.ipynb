{
  "nbformat": 4,
  "nbformat_minor": 0,
  "metadata": {
    "colab": {
      "provenance": [],
      "authorship_tag": "ABX9TyN19xgfwCiRD9uWsfFVijxt",
      "include_colab_link": true
    },
    "kernelspec": {
      "name": "python3",
      "display_name": "Python 3"
    },
    "language_info": {
      "name": "python"
    }
  },
  "cells": [
    {
      "cell_type": "markdown",
      "metadata": {
        "id": "view-in-github",
        "colab_type": "text"
      },
      "source": [
        "<a href=\"https://colab.research.google.com/github/cvitorc/Exemplos-Estatistica-Mestrado/blob/main/Exemplo_00_DescricaoBasica.ipynb\" target=\"_parent\"><img src=\"https://colab.research.google.com/assets/colab-badge.svg\" alt=\"Open In Colab\"/></a>"
      ]
    },
    {
      "cell_type": "code",
      "execution_count": null,
      "metadata": {
        "colab": {
          "base_uri": "https://localhost:8080/"
        },
        "id": "Pl-YudJkKOgE",
        "outputId": "0ef4ceaf-ce41-4cd2-f85a-bcc74f7db028"
      },
      "outputs": [
        {
          "output_type": "stream",
          "name": "stdout",
          "text": [
            "Variância: 31.56786703601108\n",
            "Desvio Padrão: 5.618528903192639\n",
            "Média: 21.105263157894736\n",
            "Mediana: 21.0\n",
            "Moda: 21\n"
          ]
        }
      ],
      "source": [
        "import numpy as np\n",
        "\n",
        "dados = np.array([10, 12, 14, 15, 18, 18, 20, 21, 22, 25, 30, 21, 22, 25, 30, 21, 22, 25, 30])\n",
        "\n",
        "# Média\n",
        "media = np.mean(dados)\n",
        "\n",
        "# Mediana\n",
        "mediana = np.median(dados)\n",
        "\n",
        "# Moda\n",
        "moda = np.argmax(np.bincount(dados))\n",
        "\n",
        "# Variância\n",
        "variancia = np.var(dados)\n",
        "\n",
        "# Desvio Padrão\n",
        "desvio_padrao = np.std(dados)\n",
        "\n",
        "# impressão dos resultados\n",
        "\n",
        "print(f'Média: {media}')\n",
        "print(f'Mediana: {mediana}')\n",
        "print(f'Moda: {moda}')\n",
        "\n",
        "print(f'Variância: {variancia}')\n",
        "print(f'Desvio Padrão: {desvio_padrao}')\n"
      ]
    }
  ]
}