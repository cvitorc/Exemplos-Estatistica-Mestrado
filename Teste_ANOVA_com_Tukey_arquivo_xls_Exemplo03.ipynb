{
  "nbformat": 4,
  "nbformat_minor": 0,
  "metadata": {
    "colab": {
      "provenance": [],
      "authorship_tag": "ABX9TyPoUrAYpdS9k86EvBDEdNM7",
      "include_colab_link": true
    },
    "kernelspec": {
      "name": "python3",
      "display_name": "Python 3"
    },
    "language_info": {
      "name": "python"
    }
  },
  "cells": [
    {
      "cell_type": "markdown",
      "metadata": {
        "id": "view-in-github",
        "colab_type": "text"
      },
      "source": [
        "<a href=\"https://colab.research.google.com/github/cvitorc/Exemplos-Estatistica-Mestrado/blob/main/Teste_ANOVA_com_Tukey_arquivo_xls_Exemplo03.ipynb\" target=\"_parent\"><img src=\"https://colab.research.google.com/assets/colab-badge.svg\" alt=\"Open In Colab\"/></a>"
      ]
    },
    {
      "cell_type": "code",
      "execution_count": null,
      "metadata": {
        "id": "JWk6O6iO4uI_",
        "colab": {
          "base_uri": "https://localhost:8080/"
        },
        "outputId": "f5940310-d599-4f73-e4d2-b55527051f78"
      },
      "outputs": [
        {
          "output_type": "stream",
          "name": "stdout",
          "text": [
            "Requirement already satisfied: statsmodels in /usr/local/lib/python3.10/dist-packages (0.14.0)\n",
            "Requirement already satisfied: numpy>=1.18 in /usr/local/lib/python3.10/dist-packages (from statsmodels) (1.23.5)\n",
            "Requirement already satisfied: scipy!=1.9.2,>=1.4 in /usr/local/lib/python3.10/dist-packages (from statsmodels) (1.11.3)\n",
            "Requirement already satisfied: pandas>=1.0 in /usr/local/lib/python3.10/dist-packages (from statsmodels) (1.5.3)\n",
            "Requirement already satisfied: patsy>=0.5.2 in /usr/local/lib/python3.10/dist-packages (from statsmodels) (0.5.3)\n",
            "Requirement already satisfied: packaging>=21.3 in /usr/local/lib/python3.10/dist-packages (from statsmodels) (23.2)\n",
            "Requirement already satisfied: python-dateutil>=2.8.1 in /usr/local/lib/python3.10/dist-packages (from pandas>=1.0->statsmodels) (2.8.2)\n",
            "Requirement already satisfied: pytz>=2020.1 in /usr/local/lib/python3.10/dist-packages (from pandas>=1.0->statsmodels) (2023.3.post1)\n",
            "Requirement already satisfied: six in /usr/local/lib/python3.10/dist-packages (from patsy>=0.5.2->statsmodels) (1.16.0)\n"
          ]
        }
      ],
      "source": [
        "!pip install statsmodels"
      ]
    },
    {
      "cell_type": "code",
      "source": [
        "import pandas as pd\n",
        "import statsmodels.api as sm\n",
        "from statsmodels.formula.api import ols\n",
        "from statsmodels.stats.multicomp import pairwise_tukeyhsd\n",
        "\n",
        "# Leia o arquivo Excel (substitua 'seuarquivo.xlsx' pelo caminho do seu arquivo)\n",
        "dados = pd.read_excel('exemplo-ANOVA3.xlsx')\n",
        "\n",
        "# Realize a ANOVA\n",
        "modelo = ols('Valor ~ Grupo', data=dados).fit()\n",
        "tabela_anova = sm.stats.anova_lm(modelo, typ=2)\n",
        "\n",
        "# Exiba os resultados da ANOVA\n",
        "print(\"Resultados da ANOVA:\")\n",
        "print(tabela_anova)\n",
        "\n",
        "# Extraia o valor de p da ANOVA\n",
        "valor_p_anova = tabela_anova['PR(>F)'][0]\n",
        "\n",
        "nivel_significancia = 0.05\n",
        "\n",
        "# Exiba o valor de p da ANOVA\n",
        "print(\"\\nValor de p da ANOVA:\", valor_p_anova)\n",
        "\n",
        "# Verifique se o valor de P e maior que o nível de significancia\n",
        "if valor_p_anova > nivel_significancia:\n",
        "    print(f\"\\nA ANOVA não é significativa (p-valor: {valor_p_anova}), não rejeitando a hipótese nula.\")\n",
        "else:\n",
        "    print(f\"\\nA ANOVA é significativa (p-valor: {valor_p_anova}), rejeitando a hipótese nula.\")\n",
        "\n",
        "    # Realize o teste de Tukey\n",
        "    resultado_tukey = pairwise_tukeyhsd(endog=dados['Valor'], groups=dados['Grupo'])\n",
        "\n",
        "    # Exiba os resultados do teste de Tukey\n",
        "    print(\"\\nResultados do Teste de Tukey:\")\n",
        "    print(resultado_tukey.summary())\n",
        "\n"
      ],
      "metadata": {
        "colab": {
          "base_uri": "https://localhost:8080/"
        },
        "id": "1N1luilxuUQh",
        "outputId": "2b4ae73a-150a-45c6-ecb7-65a12eb88ff2"
      },
      "execution_count": null,
      "outputs": [
        {
          "output_type": "stream",
          "name": "stdout",
          "text": [
            "Resultados da ANOVA:\n",
            "             sum_sq    df          F        PR(>F)\n",
            "Grupo     99.140833   2.0  32.176146  4.032210e-07\n",
            "Residual  32.352500  21.0        NaN           NaN\n",
            "\n",
            "Valor de p da ANOVA: 4.032210222192694e-07\n",
            "\n",
            "A ANOVA é significativa (p-valor: 4.032210222192694e-07), rejeitando a hipótese nula.\n",
            "\n",
            "Resultados do Teste de Tukey:\n",
            "Multiple Comparison of Means - Tukey HSD, FWER=0.05 \n",
            "====================================================\n",
            " group1 group2 meandiff p-adj   lower  upper  reject\n",
            "----------------------------------------------------\n",
            "Grupo 2 Grupo1      1.4 0.0848 -0.1643 2.9643  False\n",
            "Grupo 2 padrão   4.8375    0.0  3.2732 6.4018   True\n",
            " Grupo1 padrão   3.4375    0.0  1.8732 5.0018   True\n",
            "----------------------------------------------------\n"
          ]
        }
      ]
    }
  ]
}