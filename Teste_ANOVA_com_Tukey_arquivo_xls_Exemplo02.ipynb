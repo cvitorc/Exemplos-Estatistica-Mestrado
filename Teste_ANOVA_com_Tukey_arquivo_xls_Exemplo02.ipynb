{
  "nbformat": 4,
  "nbformat_minor": 0,
  "metadata": {
    "colab": {
      "provenance": [],
      "authorship_tag": "ABX9TyPcPXuglIhoEDuNCY328+sz",
      "include_colab_link": true
    },
    "kernelspec": {
      "name": "python3",
      "display_name": "Python 3"
    },
    "language_info": {
      "name": "python"
    }
  },
  "cells": [
    {
      "cell_type": "markdown",
      "metadata": {
        "id": "view-in-github",
        "colab_type": "text"
      },
      "source": [
        "<a href=\"https://colab.research.google.com/github/cvitorc/Exemplos-Estatistica-Mestrado/blob/main/Teste_ANOVA_com_Tukey_arquivo_xls_Exemplo02.ipynb\" target=\"_parent\"><img src=\"https://colab.research.google.com/assets/colab-badge.svg\" alt=\"Open In Colab\"/></a>"
      ]
    },
    {
      "cell_type": "code",
      "execution_count": null,
      "metadata": {
        "id": "JWk6O6iO4uI_",
        "colab": {
          "base_uri": "https://localhost:8080/"
        },
        "outputId": "e6986fb4-a573-4a38-902d-b80426277e5e"
      },
      "outputs": [
        {
          "output_type": "stream",
          "name": "stdout",
          "text": [
            "Requirement already satisfied: statsmodels in /usr/local/lib/python3.10/dist-packages (0.14.0)\n",
            "Requirement already satisfied: numpy>=1.18 in /usr/local/lib/python3.10/dist-packages (from statsmodels) (1.23.5)\n",
            "Requirement already satisfied: scipy!=1.9.2,>=1.4 in /usr/local/lib/python3.10/dist-packages (from statsmodels) (1.11.3)\n",
            "Requirement already satisfied: pandas>=1.0 in /usr/local/lib/python3.10/dist-packages (from statsmodels) (1.5.3)\n",
            "Requirement already satisfied: patsy>=0.5.2 in /usr/local/lib/python3.10/dist-packages (from statsmodels) (0.5.3)\n",
            "Requirement already satisfied: packaging>=21.3 in /usr/local/lib/python3.10/dist-packages (from statsmodels) (23.2)\n",
            "Requirement already satisfied: python-dateutil>=2.8.1 in /usr/local/lib/python3.10/dist-packages (from pandas>=1.0->statsmodels) (2.8.2)\n",
            "Requirement already satisfied: pytz>=2020.1 in /usr/local/lib/python3.10/dist-packages (from pandas>=1.0->statsmodels) (2023.3.post1)\n",
            "Requirement already satisfied: six in /usr/local/lib/python3.10/dist-packages (from patsy>=0.5.2->statsmodels) (1.16.0)\n"
          ]
        }
      ],
      "source": [
        "!pip install statsmodels"
      ]
    },
    {
      "cell_type": "code",
      "source": [
        "import pandas as pd\n",
        "import statsmodels.api as sm\n",
        "from statsmodels.formula.api import ols\n",
        "from statsmodels.stats.multicomp import pairwise_tukeyhsd\n",
        "\n",
        "# Leia o arquivo Excel (substitua 'seuarquivo.xlsx' pelo caminho do seu arquivo)\n",
        "dados = pd.read_excel('exemplo-ANOVA2.xlsx')\n",
        "\n",
        "# Realize a ANOVA\n",
        "modelo = ols('Valor ~ Grupo', data=dados).fit()\n",
        "tabela_anova = sm.stats.anova_lm(modelo, typ=2)\n",
        "\n",
        "# Exiba os resultados da ANOVA\n",
        "print(\"Resultados da ANOVA:\")\n",
        "print(tabela_anova)\n",
        "\n",
        "# Extraia o valor de p da ANOVA\n",
        "valor_p_anova = tabela_anova['PR(>F)'][0]\n",
        "\n",
        "nivel_significancia = 0.05\n",
        "\n",
        "# Exiba o valor de p da ANOVA\n",
        "print(\"\\nValor de p da ANOVA:\", valor_p_anova)\n",
        "\n",
        "# Verifique se o valor de P e maior que o nível de significancia\n",
        "if valor_p_anova > nivel_significancia:\n",
        "    print(f\"\\nA ANOVA não é significativa (p-valor: {valor_p_anova}), não rejeitando a hipótese nula.\")\n",
        "else:\n",
        "    print(f\"\\nA ANOVA é significativa (p-valor: {valor_p_anova}), rejeitando a hipótese nula.\")\n",
        "\n",
        "    # Realize o teste de Tukey\n",
        "    resultado_tukey = pairwise_tukeyhsd(endog=dados['Valor'], groups=dados['Grupo'])\n",
        "\n",
        "    # Exiba os resultados do teste de Tukey\n",
        "    print(\"\\nResultados do Teste de Tukey:\")\n",
        "    print(resultado_tukey.summary())\n",
        "\n"
      ],
      "metadata": {
        "colab": {
          "base_uri": "https://localhost:8080/"
        },
        "id": "1N1luilxuUQh",
        "outputId": "3ae67ff7-d4db-45a2-9c9e-6252350a9204"
      },
      "execution_count": null,
      "outputs": [
        {
          "output_type": "stream",
          "name": "stdout",
          "text": [
            "Resultados da ANOVA:\n",
            "             sum_sq    df        F    PR(>F)\n",
            "Grupo     14.533333   2.0  4.27451  0.039659\n",
            "Residual  20.400000  12.0      NaN       NaN\n",
            "\n",
            "Valor de p da ANOVA: 0.03965891577699042\n",
            "\n",
            "A ANOVA é significativa (p-valor: 0.03965891577699042), rejeitando a hipótese nula.\n",
            "\n",
            "Resultados do Teste de Tukey:\n",
            "Multiple Comparison of Means - Tukey HSD, FWER=0.05\n",
            "================================================\n",
            "group1 group2 meandiff p-adj  lower upper reject\n",
            "------------------------------------------------\n",
            "  café   suco      1.0 0.4685  -1.2   3.2  False\n",
            "  café   água      2.4 0.0325   0.2   4.6   True\n",
            "  suco   água      1.4 0.2459  -0.8   3.6  False\n",
            "------------------------------------------------\n"
          ]
        }
      ]
    },
    {
      "cell_type": "markdown",
      "source": [
        "Resposta:\n",
        "\n",
        "Os resultados indicam que, com um nível de significância de 0.05 (FWER=0.05), a análise de variância (ANOVA) encontrou diferenças significativas entre os grupos, e o teste de Tukey revelou quais pares de grupos são significativamente diferentes. Vamos interpretar esses resultados:\n",
        "\n",
        "Resultados da ANOVA:\n",
        "\n",
        "A estatística F é 4.27451, e o valor p associado a ela é 0.039659. Isso indica que o valor p (PR(>F)) é menor que o nível de significância de 0.05. Portanto, há evidências para rejeitar a hipótese nula, sugerindo que existem diferenças significativas entre os grupos.\n",
        "Resultados do Teste de Tukey:\n",
        "\n",
        "O teste de Tukey compara pares de grupos para determinar quais deles são estatisticamente diferentes. Os resultados do teste de Tukey são exibidos em uma tabela:\n",
        "\n",
        "Entre \"café\" e \"suco\", o valor p ajustado (p-adj) é 0.4685, que é maior que 0.05, indicando que não há diferença significativa entre esses grupos. A coluna \"reject\" está marcada como \"False\", confirmando que esses grupos não são significativamente diferentes.\n",
        "\n",
        "Entre \"café\" e \"água\", o valor p ajustado é 0.0325, que é menor que 0.05, indicando uma diferença significativa. A coluna \"reject\" está marcada como \"True\", confirmando a diferença significativa entre esses grupos.\n",
        "\n",
        "Entre \"suco\" e \"água\", o valor p ajustado é 0.2459, que é maior que 0.05, indicando que não há diferença significativa. A coluna \"reject\" está marcada como \"False\", indicando que esses grupos não são significativamente diferentes.\n",
        "\n",
        "Portanto, com base nesses resultados, podemos concluir que existe uma diferença significativa entre os grupos \"café\" e \"água\", mas não entre os outros pares de grupos.\n"
      ],
      "metadata": {
        "id": "Ozepohes3L8o"
      }
    }
  ]
}