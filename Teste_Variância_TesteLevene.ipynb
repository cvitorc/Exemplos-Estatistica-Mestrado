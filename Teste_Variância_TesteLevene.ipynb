{
  "nbformat": 4,
  "nbformat_minor": 0,
  "metadata": {
    "colab": {
      "provenance": [],
      "authorship_tag": "ABX9TyPMvY02J5oiA1b8xchzgUxw",
      "include_colab_link": true
    },
    "kernelspec": {
      "name": "python3",
      "display_name": "Python 3"
    },
    "language_info": {
      "name": "python"
    }
  },
  "cells": [
    {
      "cell_type": "markdown",
      "metadata": {
        "id": "view-in-github",
        "colab_type": "text"
      },
      "source": [
        "<a href=\"https://colab.research.google.com/github/cvitorc/Exemplos-Estatistica-Mestrado/blob/main/Teste_Vari%C3%A2ncia_TesteLevene.ipynb\" target=\"_parent\"><img src=\"https://colab.research.google.com/assets/colab-badge.svg\" alt=\"Open In Colab\"/></a>"
      ]
    },
    {
      "cell_type": "code",
      "execution_count": null,
      "metadata": {
        "colab": {
          "base_uri": "https://localhost:8080/"
        },
        "id": "qpivjcu-GnPm",
        "outputId": "c408cfbd-5497-44cd-8657-46e44d3dc225"
      },
      "outputs": [
        {
          "output_type": "stream",
          "name": "stdout",
          "text": [
            "Valor p: 0.7481764735842594\n",
            "As variâncias dos grupos são estatisticamente iguais, considerando o índice de significância indicado.\n"
          ]
        }
      ],
      "source": [
        "import numpy as np\n",
        "import pandas as pd\n",
        "from scipy import stats\n",
        "\n",
        "# Carregue os dados do arquivo Excel com duas colunas\n",
        "dados_excel = pd.read_excel('dieta-folha-mandioca.xlsx')\n",
        "\n",
        "# Selecione as duas colunas de dados que você deseja analisar\n",
        "coluna1 = dados_excel['Antes']\n",
        "coluna2 = dados_excel['Depois']\n",
        "\n",
        "# Defina um nível de significância (geralmente 0,05) para avaliar o p-valor\n",
        "nivel_significancia = 0.05\n",
        "\n",
        "# Verificando a variância\n",
        "# Realize o teste de Levene para verificar a igualdade de variâncias\n",
        "stat, p_valor = stats.levene(coluna1, coluna2)\n",
        "\n",
        "# Exiba o resultado do teste\n",
        "print(f\"Valor p: {p_valor}\")\n",
        "\n",
        "# Verifique se as variâncias são iguais\n",
        "if p_valor > nivel_significancia:\n",
        "    print(\"As variâncias dos grupos são estatisticamente iguais, considerando o índice de significância indicado.\")\n",
        "else:\n",
        "    print(\"Há evidências para sugerir que as variâncias dos grupos são diferentes, , considerando o índice de significância indicado. \")\n"
      ]
    }
  ]
}