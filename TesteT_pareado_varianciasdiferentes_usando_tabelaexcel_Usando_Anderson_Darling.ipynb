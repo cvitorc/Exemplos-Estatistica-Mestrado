{
  "cells": [
    {
      "cell_type": "markdown",
      "metadata": {
        "id": "view-in-github",
        "colab_type": "text"
      },
      "source": [
        "<a href=\"https://colab.research.google.com/github/cvitorc/Exemplos-Estatistica-Mestrado/blob/main/TesteT_pareado_varianciasdiferentes_usando_tabelaexcel_Usando_Anderson_Darling.ipynb\" target=\"_parent\"><img src=\"https://colab.research.google.com/assets/colab-badge.svg\" alt=\"Open In Colab\"/></a>"
      ]
    },
    {
      "cell_type": "code",
      "execution_count": null,
      "metadata": {
        "colab": {
          "base_uri": "https://localhost:8080/"
        },
        "id": "lRbQwTZJOOJH",
        "outputId": "bbe8e9bf-e85b-4a7e-dcf4-c5a54c11b9c8"
      },
      "outputs": [
        {
          "output_type": "stream",
          "name": "stdout",
          "text": [
            "Grupo 1: Os dados seguem uma distribuição normal.\n",
            "Grupo 2: Os dados seguem uma distribuição normal.\n",
            "Há evidências para sugerir que as variâncias dos grupos são diferentes. \n",
            "Valor p: 0.2602935855978497\n",
            "Não há evidências para concluir que há uma diferença estatisticamente significativa nas médias.\n"
          ]
        }
      ],
      "source": [
        "import numpy as np\n",
        "import pandas as pd\n",
        "from scipy import stats\n",
        "\n",
        "# Leia os dados do arquivo Excel\n",
        "dados = pd.read_excel(\"Dados-teste.xlsx\")\n",
        "\n",
        "# Divida os dados em duas colunas\n",
        "coluna1 = dados['Antes']\n",
        "coluna2 = dados['Depois']\n",
        "\n",
        "# Defina um nível de significância (geralmente 0,05) para avaliar o p-valor\n",
        "nivel_significancia = 0.05\n",
        "\n",
        "# Realize o teste de Anderson-Darling nas duas colunas\n",
        "resultado_coluna1 = stats.anderson(coluna1)\n",
        "resultado_coluna2 = stats.anderson(coluna2)\n",
        "\n",
        "# Estatística do teste de Anderson-Darling\n",
        "estatistica_teste_coluna1 = resultado_coluna1.statistic\n",
        "estatistica_teste_coluna2 = resultado_coluna2.statistic\n",
        "valores_críticos_coluna1 = resultado_coluna1.critical_values\n",
        "valores_críticos_coluna2 = resultado_coluna2.critical_values\n",
        "\n",
        "# Calcule o valor de p\n",
        "p_valor1 = 1.0 - valores_críticos_coluna1[valores_críticos_coluna1 > estatistica_teste_coluna1][0]\n",
        "p_valor2 = 1.0 - valores_críticos_coluna2[valores_críticos_coluna2 > estatistica_teste_coluna2][0]\n",
        "\n",
        "# Verifique se os dados seguem uma distribuição normal\n",
        "if p_valor1 > nivel_significancia:\n",
        "    print(\"Grupo 1: Os dados seguem uma distribuição normal.\")\n",
        "else:\n",
        "    print(\"Grupo 1: Os dados não seguem uma distribuição normal.\")\n",
        "\n",
        "# Verifique se os dados seguem uma distribuição normal\n",
        "if p_valor2 > nivel_significancia:\n",
        "    print(\"Grupo 2: Os dados seguem uma distribuição normal.\")\n",
        "else:\n",
        "    print(\"Grupo 2: Os dados não seguem uma distribuição normal.\")\n",
        "\n",
        "# calculo das variâncias\n",
        "variancia1 = np.var(coluna1)\n",
        "variancia2 = np.var(coluna2)\n",
        "\n",
        "# Calculo valor de F\n",
        "if variancia1 >= variancia2:\n",
        "    f_variancia = variancia1 / variancia2\n",
        "else:\n",
        "    f_variancia = variancia2 / variancia1\n",
        "\n",
        "# Verifique se as variâncias são iguais\n",
        "if f_variancia < 4:\n",
        "    print(\"As variâncias dos grupos são estatisticamente iguais\")\n",
        "else:\n",
        "    print(\"Há evidências para sugerir que as variâncias dos grupos são diferentes. \")\n",
        "\n",
        "# Realize o teste t pareado com variâncias heterogêneas\n",
        "t_stat, p_valor = stats.ttest_rel(coluna1, coluna2)\n",
        "\n",
        "# Exiba o resultado do teste\n",
        "print(f\"Valor p: {p_valor}\")\n",
        "\n",
        "# Verifique se há diferença estatisticamente significativa nas médias\n",
        "if p_valor < nivel_significancia:\n",
        "    print(\"Há uma diferença estatisticamente significativa nas médias antes e depois do tratamento.\")\n",
        "else:\n",
        "    print(\"Não há evidências para concluir que há uma diferença estatisticamente significativa nas médias.\")\n"
      ]
    },
    {
      "cell_type": "markdown",
      "metadata": {
        "id": "g6OUt98bOP7W"
      },
      "source": [
        "No contexto do teste t pareado, a suposição tradicional é que as diferenças entre os pares de observações seguem uma distribuição normal e que as variâncias das diferenças são iguais. No entanto, em algumas situações, você pode se deparar com grupos pareados em que as variações das diferenças são claramente diferentes. Nesse caso, você pode usar uma versão modificada do teste t pareado, conhecida como \"teste t pareado com variâncias heterogêneas\" ou \"teste t pareado com diferenças de variância\".\n",
        "\n",
        "Neste exemplo, usamos stats.ttest_rel(antes_tratamento, depois_tratamento) para realizar o teste t pareado com varianças heterogêneas, que não assume que as variâncias são iguais.\n",
        "\n",
        "No entanto, é importante observar que o teste t pareado com varianças heterogêneas é menos robusto do que o teste t pareado tradicional e pode produzir resultados menos precisos em algumas situações. Portanto, é aconselhável considerar a natureza dos seus dados."
      ]
    }
  ],
  "metadata": {
    "colab": {
      "provenance": [],
      "authorship_tag": "ABX9TyP/b5iYIDqRR05lLG3Ptrcl",
      "include_colab_link": true
    },
    "kernelspec": {
      "display_name": "Python 3",
      "name": "python3"
    },
    "language_info": {
      "name": "python"
    }
  },
  "nbformat": 4,
  "nbformat_minor": 0
}