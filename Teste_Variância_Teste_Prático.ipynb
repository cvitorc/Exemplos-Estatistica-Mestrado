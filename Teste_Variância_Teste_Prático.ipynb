{
  "nbformat": 4,
  "nbformat_minor": 0,
  "metadata": {
    "colab": {
      "provenance": [],
      "authorship_tag": "ABX9TyMpL/rl053cCZ1sOFHRnpvY",
      "include_colab_link": true
    },
    "kernelspec": {
      "name": "python3",
      "display_name": "Python 3"
    },
    "language_info": {
      "name": "python"
    }
  },
  "cells": [
    {
      "cell_type": "markdown",
      "metadata": {
        "id": "view-in-github",
        "colab_type": "text"
      },
      "source": [
        "<a href=\"https://colab.research.google.com/github/cvitorc/Exemplos-Estatistica-Mestrado/blob/main/Teste_Vari%C3%A2ncia_Teste_Pr%C3%A1tico.ipynb\" target=\"_parent\"><img src=\"https://colab.research.google.com/assets/colab-badge.svg\" alt=\"Open In Colab\"/></a>"
      ]
    },
    {
      "cell_type": "code",
      "execution_count": null,
      "metadata": {
        "colab": {
          "base_uri": "https://localhost:8080/"
        },
        "id": "qpivjcu-GnPm",
        "outputId": "a000e1e0-4c37-4e12-b298-089f00caf49b"
      },
      "outputs": [
        {
          "output_type": "stream",
          "name": "stdout",
          "text": [
            "As variâncias dos grupos são estatisticamente iguais\n"
          ]
        }
      ],
      "source": [
        "import numpy as np\n",
        "import pandas as pd\n",
        "from scipy import stats\n",
        "\n",
        "# Carregue os dados do arquivo Excel com duas colunas\n",
        "dados_excel = pd.read_excel('Math-reading-1000.xlsx')\n",
        "\n",
        "# Selecione as duas colunas de dados que você deseja analisar\n",
        "coluna1 = dados_excel['math score']\n",
        "coluna2 = dados_excel['reading score']\n",
        "\n",
        "# calculo das variâncias\n",
        "variancia1 = np.var(coluna1)\n",
        "variancia2 = np.var(coluna2)\n",
        "\n",
        "# Calculo valor de F\n",
        "\n",
        "if variancia1 >= variancia2:\n",
        "    f_variancia = variancia1 / variancia2\n",
        "else:\n",
        "    f_variancia = variancia2 / variancia1\n",
        "\n",
        "\n",
        "# Verifique se as variâncias são iguais\n",
        "if f_variancia < 4:\n",
        "    print(\"As variâncias dos grupos são estatisticamente iguais\")\n",
        "else:\n",
        "    print(\"Há evidências para sugerir que as variâncias dos grupos são diferentes. \")\n",
        "\n"
      ]
    }
  ]
}